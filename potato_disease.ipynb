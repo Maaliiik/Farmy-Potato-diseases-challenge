{
  "nbformat": 4,
  "nbformat_minor": 0,
  "metadata": {
    "colab": {
      "provenance": []
    },
    "kernelspec": {
      "name": "python3",
      "display_name": "Python 3"
    },
    "language_info": {
      "name": "python"
    },
    "accelerator": "GPU"
  },
  "cells": [
    {
      "cell_type": "code",
      "execution_count": null,
      "metadata": {
        "colab": {
          "base_uri": "https://localhost:8080/"
        },
        "id": "-IgC5z5-tLrN",
        "outputId": "40e9fd53-c1fc-41d4-8297-381175e74242"
      },
      "outputs": [
        {
          "output_type": "execute_result",
          "data": {
            "text/plain": [
              "RandomState(MT19937) at 0x7F039DF177C0"
            ]
          },
          "metadata": {},
          "execution_count": 1
        }
      ],
      "source": [
        "import pandas as pd\n",
        "import matplotlib.pyplot as plt\n",
        "import numpy as np\n",
        "from sklearn.ensemble import RandomForestClassifier\n",
        "np.random.seed(42)\n",
        "np.random.RandomState(42)"
      ]
    },
    {
      "cell_type": "code",
      "source": [
        "\n",
        "from google.colab import drive\n",
        "drive.mount('/content/drive')"
      ],
      "metadata": {
        "id": "jt272M9EupB2"
      },
      "execution_count": null,
      "outputs": []
    },
    {
      "cell_type": "code",
      "source": [
        "TRAIN_PATH = '/content/drive/MyDrive/potatos/train'\n",
        "TEST_PATH = '/content/drive/MyDrive/Machine learning/Test.csv'\n",
        "#SUB_PATH = '/content/drive/MyDrive/Machine learning/SampleSubmission.csv'"
      ],
      "metadata": {
        "id": "ZdF6CpdaupHE"
      },
      "execution_count": null,
      "outputs": []
    },
    {
      "cell_type": "code",
      "source": [
        "from tensorflow import keras\n",
        "\n",
        "base_model = keras.applications.VGG16(\n",
        "    weights='imagenet',\n",
        "    input_shape=(500, 500, 3),\n",
        "    include_top=False)"
      ],
      "metadata": {
        "id": "TpQ79MJgupJp"
      },
      "execution_count": null,
      "outputs": []
    },
    {
      "cell_type": "code",
      "source": [
        "import matplotlib.pyplot as plt\n",
        "import matplotlib.image as mpimg\n",
        "\n",
        "def show_image(image_path):\n",
        "    image = mpimg.imread(image_path)\n",
        "    print(image.shape)\n",
        "    plt.imshow(image)"
      ],
      "metadata": {
        "id": "j9KqNjY3upL7"
      },
      "execution_count": null,
      "outputs": []
    },
    {
      "cell_type": "code",
      "source": [
        "show_image('/content/drive/MyDrive/Colab Notebooks/potatos/train/Potato___Early_blight/Early_blight (12).jpg')"
      ],
      "metadata": {
        "id": "jivPKZwNupPG"
      },
      "execution_count": null,
      "outputs": []
    },
    {
      "cell_type": "code",
      "source": [
        "from tensorflow.keras.preprocessing.image import ImageDataGenerator\n",
        "\n",
        "# Create a data generator\n",
        "datagen_train = ImageDataGenerator(\n",
        "    samplewise_center=True,  # set each sample mean to 0\n",
        "    rotation_range=10,  # randomly rotate images in the range (degrees, 0 to 180)\n",
        "    zoom_range=0.1,  # Randomly zoom image\n",
        "    width_shift_range=0.1,  # randomly shift images horizontally (fraction of total width)\n",
        "    height_shift_range=0.1,  # randomly shift images vertically (fraction of total height)\n",
        "    horizontal_flip=True,  # randomly flip images\n",
        "    vertical_flip=True,\n",
        ")  # we don't expect Bo to be upside-down so we will not flip vertically\n",
        "\n",
        "# No need to augment validation data\n",
        "datagen_valid = ImageDataGenerator(samplewise_center=True)\n",
        "datagen_test = ImageDataGenerator(samplewise_center=True)"
      ],
      "metadata": {
        "id": "4jrkeThhupeD"
      },
      "execution_count": null,
      "outputs": []
    },
    {
      "cell_type": "code",
      "source": [
        "# load and iterate training dataset\n",
        "train_it = datagen_train.flow_from_directory(\n",
        "    \"/content/drive/MyDrive/Colab Notebooks/potatos/train/\",\n",
        "    target_size=(500 ,500),\n",
        "    color_mode=\"rgb\",\n",
        "    class_mode=\"categorical\",\n",
        "#    batch_size=8,\n",
        ")\n",
        "\n",
        "# load and iterate validation dataset\n",
        "valid_it = datagen_valid.flow_from_directory(\n",
        "    \"/content/drive/MyDrive/Colab Notebooks/potatos/validation/\",\n",
        "    target_size=(500 ,500),\n",
        "    color_mode=\"rgb\",\n",
        "    class_mode=\"categorical\",\n",
        "#    batch_size=8,\n",
        ")"
      ],
      "metadata": {
        "id": "HdqIxIQRupg8"
      },
      "execution_count": null,
      "outputs": []
    },
    {
      "cell_type": "code",
      "source": [
        "test_it = datagen_test.flow_from_directory(\n",
        "    \"/content/drive/MyDrive/Colab Notebooks/potatos/test/test/\",\n",
        "    target_size=(500 ,500),\n",
        "    color_mode=\"rgb\",\n",
        "    class_mode=\"categorical\",\n",
        "#    batch_size=8,\n",
        ")"
      ],
      "metadata": {
        "id": "qvxF_zs3upkD"
      },
      "execution_count": null,
      "outputs": []
    },
    {
      "cell_type": "code",
      "source": [
        "base_model.trainable = False"
      ],
      "metadata": {
        "id": "no_wabT_upnL"
      },
      "execution_count": null,
      "outputs": []
    },
    {
      "cell_type": "code",
      "source": [
        "# Create inputs with correct shape\n",
        "inputs = keras.Input(shape=(500 ,500 , 3))\n",
        "\n",
        "x = base_model(inputs, training=False)\n",
        "\n",
        "# Add pooling layer or flatten layer\n",
        "x = keras.layers.GlobalAveragePooling2D()(x)\n",
        "\n",
        "# Add final dense layer\n",
        "outputs = keras.layers.Dense(3, activation = 'softmax')(x)\n",
        "\n",
        "# Combine inputs and outputs to create model\n",
        "\n",
        "model = keras.Model(inputs, outputs)"
      ],
      "metadata": {
        "id": "ifAaH24Tupp7"
      },
      "execution_count": null,
      "outputs": []
    },
    {
      "cell_type": "code",
      "source": [
        "from tensorflow.keras.losses import categorical_crossentropy"
      ],
      "metadata": {
        "id": "E-apLSMsvIHe"
      },
      "execution_count": null,
      "outputs": []
    },
    {
      "cell_type": "code",
      "source": [
        "model.compile(loss = categorical_crossentropy , metrics = 'accuracy')"
      ],
      "metadata": {
        "id": "XJkYx7_dvIE1"
      },
      "execution_count": null,
      "outputs": []
    },
    {
      "cell_type": "code",
      "source": [
        "model.fit(train_it,\n",
        "          validation_data= valid_it,\n",
        "          steps_per_epoch=train_it.samples/train_it.batch_size,\n",
        "          validation_steps=valid_it.samples/valid_it.batch_size,\n",
        "          epochs=20)"
      ],
      "metadata": {
        "colab": {
          "base_uri": "https://localhost:8080/"
        },
        "id": "WvR8YLSmvIB9",
        "outputId": "947de4d1-2041-4388-fccf-73c778be60a8"
      },
      "execution_count": null,
      "outputs": [
        {
          "output_type": "stream",
          "name": "stdout",
          "text": [
            "Epoch 1/20\n",
            "20/20 [==============================] - 124s 6s/step - loss: 1.4025 - accuracy: 0.4955 - val_loss: 1.9749 - val_accuracy: 0.4808\n",
            "Epoch 2/20\n",
            "20/20 [==============================] - 107s 5s/step - loss: 1.1463 - accuracy: 0.5587 - val_loss: 1.6733 - val_accuracy: 0.5288\n",
            "Epoch 3/20\n",
            "20/20 [==============================] - 107s 5s/step - loss: 0.9830 - accuracy: 0.6099 - val_loss: 1.1791 - val_accuracy: 0.5577\n",
            "Epoch 4/20\n",
            "20/20 [==============================] - 107s 5s/step - loss: 0.8809 - accuracy: 0.6446 - val_loss: 1.0653 - val_accuracy: 0.5673\n",
            "Epoch 5/20\n",
            "20/20 [==============================] - 107s 5s/step - loss: 0.8461 - accuracy: 0.6657 - val_loss: 0.9548 - val_accuracy: 0.6250\n",
            "Epoch 6/20\n",
            "20/20 [==============================] - 107s 5s/step - loss: 0.7850 - accuracy: 0.6913 - val_loss: 1.2673 - val_accuracy: 0.6058\n",
            "Epoch 7/20\n",
            "20/20 [==============================] - 107s 5s/step - loss: 0.7058 - accuracy: 0.7093 - val_loss: 0.8362 - val_accuracy: 0.6827\n",
            "Epoch 8/20\n",
            "20/20 [==============================] - 107s 5s/step - loss: 0.6944 - accuracy: 0.7199 - val_loss: 0.9444 - val_accuracy: 0.6923\n",
            "Epoch 9/20\n",
            "20/20 [==============================] - 107s 5s/step - loss: 0.6609 - accuracy: 0.7349 - val_loss: 0.8359 - val_accuracy: 0.7212\n",
            "Epoch 10/20\n",
            "20/20 [==============================] - 108s 5s/step - loss: 0.6215 - accuracy: 0.7530 - val_loss: 0.8781 - val_accuracy: 0.7212\n",
            "Epoch 11/20\n",
            "20/20 [==============================] - 107s 5s/step - loss: 0.6001 - accuracy: 0.7605 - val_loss: 0.9024 - val_accuracy: 0.6923\n",
            "Epoch 12/20\n",
            "20/20 [==============================] - 107s 5s/step - loss: 0.5980 - accuracy: 0.7786 - val_loss: 0.8904 - val_accuracy: 0.6827\n",
            "Epoch 13/20\n",
            "20/20 [==============================] - 107s 5s/step - loss: 0.5687 - accuracy: 0.7786 - val_loss: 1.0156 - val_accuracy: 0.6538\n",
            "Epoch 14/20\n",
            "20/20 [==============================] - 107s 5s/step - loss: 0.5441 - accuracy: 0.7907 - val_loss: 0.8968 - val_accuracy: 0.6923\n",
            "Epoch 15/20\n",
            "20/20 [==============================] - 107s 5s/step - loss: 0.5729 - accuracy: 0.7892 - val_loss: 0.8050 - val_accuracy: 0.7308\n",
            "Epoch 16/20\n",
            "20/20 [==============================] - 107s 5s/step - loss: 0.5531 - accuracy: 0.7997 - val_loss: 1.1139 - val_accuracy: 0.6442\n",
            "Epoch 17/20\n",
            "20/20 [==============================] - 107s 5s/step - loss: 0.5096 - accuracy: 0.8163 - val_loss: 0.8005 - val_accuracy: 0.7212\n",
            "Epoch 18/20\n",
            "20/20 [==============================] - 107s 5s/step - loss: 0.5258 - accuracy: 0.7967 - val_loss: 0.7173 - val_accuracy: 0.7308\n",
            "Epoch 19/20\n",
            "20/20 [==============================] - 107s 5s/step - loss: 0.4843 - accuracy: 0.8163 - val_loss: 0.8116 - val_accuracy: 0.7212\n",
            "Epoch 20/20\n",
            "20/20 [==============================] - 107s 5s/step - loss: 0.4821 - accuracy: 0.8193 - val_loss: 0.8569 - val_accuracy: 0.7212\n"
          ]
        },
        {
          "output_type": "execute_result",
          "data": {
            "text/plain": [
              "<keras.callbacks.History at 0x7fa3f1790990>"
            ]
          },
          "metadata": {},
          "execution_count": 30
        }
      ]
    },
    {
      "cell_type": "code",
      "source": [
        "#model.evaluate(test_it, steps= 24)  #test_it.samples/test_it.batch_size"
      ],
      "metadata": {
        "id": "cRqXgE3AvH1s"
      },
      "execution_count": null,
      "outputs": []
    },
    {
      "cell_type": "code",
      "source": [
        "model.save('potatos')"
      ],
      "metadata": {
        "colab": {
          "base_uri": "https://localhost:8080/"
        },
        "id": "2SaGyGOovHyP",
        "outputId": "85a7c3be-6310-4a92-b94b-4690eaa500e5"
      },
      "execution_count": null,
      "outputs": [
        {
          "output_type": "stream",
          "name": "stdout",
          "text": [
            "INFO:tensorflow:Assets written to: potatos/assets\n"
          ]
        }
      ]
    },
    {
      "cell_type": "code",
      "source": [
        "model.evaluate(test_it, steps= test_it.samples/test_it.batch_size)"
      ],
      "metadata": {
        "colab": {
          "base_uri": "https://localhost:8080/"
        },
        "id": "rDeXq06dvHve",
        "outputId": "e4ed1c19-41b6-4b05-ee2c-8f063a199614"
      },
      "execution_count": null,
      "outputs": [
        {
          "output_type": "stream",
          "name": "stdout",
          "text": [
            "7/7 [==============================] - 7s 954ms/step - loss: 1.0650 - accuracy: 0.6429\n"
          ]
        },
        {
          "output_type": "execute_result",
          "data": {
            "text/plain": [
              "[1.0650112628936768, 0.6428571343421936]"
            ]
          },
          "metadata": {},
          "execution_count": 32
        }
      ]
    },
    {
      "cell_type": "code",
      "source": [],
      "metadata": {
        "id": "LhC1crp9vHgJ"
      },
      "execution_count": null,
      "outputs": []
    },
    {
      "cell_type": "code",
      "source": [],
      "metadata": {
        "id": "Vpfhj-IMvHNh"
      },
      "execution_count": null,
      "outputs": []
    },
    {
      "cell_type": "code",
      "source": [],
      "metadata": {
        "id": "pXSj_yzyvHJo"
      },
      "execution_count": null,
      "outputs": []
    },
    {
      "cell_type": "code",
      "source": [],
      "metadata": {
        "id": "EjPJGg9bvHFN"
      },
      "execution_count": null,
      "outputs": []
    },
    {
      "cell_type": "code",
      "source": [],
      "metadata": {
        "id": "ZeRgzN4HvHCn"
      },
      "execution_count": null,
      "outputs": []
    },
    {
      "cell_type": "code",
      "source": [],
      "metadata": {
        "id": "FUM_Zt9uvG_m"
      },
      "execution_count": null,
      "outputs": []
    },
    {
      "cell_type": "code",
      "source": [],
      "metadata": {
        "id": "6SCM794zvG8r"
      },
      "execution_count": null,
      "outputs": []
    },
    {
      "cell_type": "code",
      "source": [],
      "metadata": {
        "id": "ko0QvJTrvG5l"
      },
      "execution_count": null,
      "outputs": []
    }
  ]
}